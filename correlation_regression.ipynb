{
 "cells": [
  {
   "cell_type": "markdown",
   "metadata": {},
   "source": [
    "# Correlation\n",
    "![examples of scatterplots with different correlations](img/correlations.png)\n",
    "\n",
    "Images are from [https://www.mathisfun.com](https://www.mathisfun.com)"
   ]
  },
  {
   "cell_type": "markdown",
   "metadata": {},
   "source": [
    "1. Based on the images above, what does the value of **correlation** tell us? What about the sign?\n",
    "\n",
    "It tells use how close the points are to the line of best fit. The sign tells use whether they are proportional or inversely proportional."
   ]
  },
  {
   "cell_type": "markdown",
   "metadata": {},
   "source": [
    "2. Examine the scatterplot below. Why is the correlation 0, even though there's a clear relationship?\n",
    "\n",
    "There is no line of best fit."
   ]
  },
  {
   "cell_type": "markdown",
   "metadata": {},
   "source": [
    "![scatterplot with quadratic relationship](img/quadratic.png)"
   ]
  },
  {
   "cell_type": "markdown",
   "metadata": {},
   "source": [
    "3. Why is it important to look at _both_ the correlation _and_ the scatterplot?\n",
    "\n",
    "If you only look at one, you can be mislead. For example, with the plot above, the correlation might tell you that there is no relationship between the axes. However, if you look at the scatter plot, there is an apparent relationship."
   ]
  },
  {
   "cell_type": "markdown",
   "metadata": {},
   "source": [
    "4. How do you use `pandas` to calculate correlation? Look up documentation to figure out the correlation between bill length and bill depth for Gentoo penguins."
   ]
  },
  {
   "cell_type": "code",
   "execution_count": 7,
   "metadata": {},
   "outputs": [
    {
     "data": {
      "text/plain": [
       "0.6561813407464278"
      ]
     },
     "execution_count": 7,
     "metadata": {},
     "output_type": "execute_result"
    }
   ],
   "source": [
    "import pandas as pd\n",
    "penguins = pd.read_csv(\"Datasets/penguins.csv\") # Change the path\n",
    "bill_length_mm = penguins[\"bill_length_mm\"]\n",
    "flipper_length_mm = penguins[\"flipper_length_mm\"]\n",
    "bill_length_mm.corr(flipper_length_mm)\n"
   ]
  },
  {
   "cell_type": "markdown",
   "metadata": {},
   "source": [
    "# Regression"
   ]
  },
  {
   "cell_type": "markdown",
   "metadata": {},
   "source": [
    "1. Pictured below is a scatterplot and its **regression line**, also called **line of best fit.** The correlation of these two variables is `-0.1098`. Is the **regression line** a good representation of the relationship between these two variables? Why or why not?\n",
    "\n",
    "This regression line is not a good representation of the relationship between the variables. This is because the relationship changes partway through."
   ]
  },
  {
   "cell_type": "markdown",
   "metadata": {},
   "source": [
    "![scatterplot with regression line](img/regression1.png)"
   ]
  },
  {
   "cell_type": "markdown",
   "metadata": {},
   "source": [
    "2. Pictured below is another scatterplot and regression line. The correlation of these two variables is `0.8982`. Is the regression line a good representation of the relationship between these two variables? Why or why not?\n",
    "\n",
    "This regression line is a good representation of the relationship, because the relationship never changes."
   ]
  },
  {
   "cell_type": "markdown",
   "metadata": {},
   "source": [
    "![scatterplot with regression line](img/regression2.png)"
   ]
  },
  {
   "cell_type": "markdown",
   "metadata": {},
   "source": [
    "3. (_Reflect_) When is a regression line useful? When is it not?\n",
    "\n",
    "A regression line is most useful when the relationship is linear. If the slope of the graph changes significantly, a regression line may not be representative of the actual relationship or trend."
   ]
  }
 ],
 "metadata": {
  "interpreter": {
   "hash": "c1aa90d473b498f97dba7e20c1a9c7cea60970428ab3d0a3ba57d45a73b54ded"
  },
  "kernelspec": {
   "display_name": "Python 3.7.4 64-bit",
   "language": "python",
   "name": "python3"
  },
  "language_info": {
   "codemirror_mode": {
    "name": "ipython",
    "version": 3
   },
   "file_extension": ".py",
   "mimetype": "text/x-python",
   "name": "python",
   "nbconvert_exporter": "python",
   "pygments_lexer": "ipython3",
   "version": "3.7.4"
  },
  "orig_nbformat": 4
 },
 "nbformat": 4,
 "nbformat_minor": 2
}
