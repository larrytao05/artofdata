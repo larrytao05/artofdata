{
 "cells": [
  {
   "cell_type": "markdown",
   "metadata": {},
   "source": [
    "#### 1. Descriptive stats can only be applied to samples and not populations. Why do you think that is?\n",
    "\n",
    "- they describe only the sample that is collected, not the actual population\n",
    "\n",
    "#### 2. Why can't we use descriptive stats to make conclusions about a population?\n",
    "\n",
    "- we don't know that the sample perfectly represents the population.\n",
    "\n",
    "#### 3. Some measures you may already be familiar with include the mean and mode. What information is\n",
    "#### captured by those numbers, and what information is lost?\n",
    "\n",
    "- the relationships of all the numbers together is gained. What is lost is the connections that the individual numbers that make up the statistics have. \n"
   ]
  },
  {
   "cell_type": "code",
   "execution_count": 3,
   "metadata": {},
   "outputs": [
    {
     "ename": "ModuleNotFoundError",
     "evalue": "No module named 'pandas'",
     "output_type": "error",
     "traceback": [
      "\u001b[1;31m---------------------------------------------------------------------------\u001b[0m",
      "\u001b[1;31mModuleNotFoundError\u001b[0m                       Traceback (most recent call last)",
      "\u001b[1;32mC:\\Users\\LARRY_~1\\AppData\\Local\\Temp/ipykernel_10128/1094663616.py\u001b[0m in \u001b[0;36m<module>\u001b[1;34m\u001b[0m\n\u001b[1;32m----> 1\u001b[1;33m \u001b[1;32mimport\u001b[0m \u001b[0mpandas\u001b[0m \u001b[1;32mas\u001b[0m \u001b[0mpd\u001b[0m\u001b[1;33m\u001b[0m\u001b[1;33m\u001b[0m\u001b[0m\n\u001b[0m\u001b[0;32m      2\u001b[0m \u001b[1;33m\u001b[0m\u001b[0m\n\u001b[0;32m      3\u001b[0m \u001b[0micecream\u001b[0m \u001b[1;33m=\u001b[0m \u001b[0mpd\u001b[0m\u001b[1;33m.\u001b[0m\u001b[0mread_csv\u001b[0m\u001b[1;33m(\u001b[0m\u001b[1;34m\"Datasets/icecream.csv\"\u001b[0m\u001b[1;33m)\u001b[0m\u001b[1;33m\u001b[0m\u001b[1;33m\u001b[0m\u001b[0m\n\u001b[0;32m      4\u001b[0m \u001b[1;33m\u001b[0m\u001b[0m\n\u001b[0;32m      5\u001b[0m \u001b[0micecream\u001b[0m\u001b[1;33m\u001b[0m\u001b[1;33m\u001b[0m\u001b[0m\n",
      "\u001b[1;31mModuleNotFoundError\u001b[0m: No module named 'pandas'"
     ]
    }
   ],
   "source": [
    "\n",
    "import pandas as pd\n",
    "\n",
    "icecream = pd.read_csv(\"Datasets/icecream.csv\")\n",
    "\n",
    "icecream"
   ]
  },
  {
   "cell_type": "markdown",
   "metadata": {},
   "source": [
    "- Identify the population of the posed question.\n",
    "\n",
    "The population is all high schoolers.\n",
    "\n",
    "-  Identify a feasible sampling frame.\n",
    "\n",
    "A feasible sampling frame is all of the high schoolers at HM.\n",
    "\n",
    "-  Is this data ordinal or nominal? Explain.\n",
    "\n",
    "\n",
    "The data is ordinal because there is an inherent order to which they should be arranged.\n",
    "\n",
    "- Using your answer above, explain why it would not make sense to find the mean ice cream flavor.\n",
    "Would it make sense to find the mode?\n",
    "\n",
    "When we convert the values of the ice cream flavors to numbers, we assume that there is a connection / inherent order between them that doesn't actually exist. For example, if we said that chocolate = 1 and strawberry = 3, that does not necessarily mean that if there are 5 of each, that the average flavor is vanilla.\n",
    "\n"
   ]
  },
  {
   "cell_type": "markdown",
   "metadata": {},
   "source": [
    "### Frequency Distributions\n",
    "- What is a frequency distribution?\n",
    "\n",
    "A frequency distribution is a list of the frequency of certain outcomes of a sample.\n",
    "\n",
    "-  How could we represent a frequency distribution in Python? Use icecream.csv as an example.\n",
    "\n",
    "We could represent it as a dictionary.\n",
    "\n",
    "One way of visualizing frequency distributions is by creating a categorical bar chart. These are\n",
    "sometimes referred to as Pareto charts (but not in this class.)\n",
    "\n"
   ]
  },
  {
   "cell_type": "markdown",
   "metadata": {},
   "source": [
    "### Categorical Bar Charts\n",
    "\n",
    "- What do the x and y axes represent?\n",
    "\n",
    "A category and its frequency\n",
    "\n",
    "- What information does this categorical bar chart quickly tell us about the dataset?\n",
    "\n",
    "The frequency distribution (how many people like each flavor)\n",
    "\n",
    "- What information from the original dataset is lost in this chart?\n",
    "\n",
    "The data about each person(grade, id)\n"
   ]
  },
  {
   "cell_type": "markdown",
   "metadata": {},
   "source": [
    "- Write a Python file to read in penguins.csv and create a list of Gentoo penguin bill lengths (or\n",
    "reuse code from before.) What is the mean bill length?"
   ]
  },
  {
   "cell_type": "code",
   "execution_count": 3,
   "metadata": {},
   "outputs": [
    {
     "name": "stdout",
     "output_type": "stream",
     "text": [
      "47.504878048780476\n"
     ]
    }
   ],
   "source": [
    "import csv\n",
    "with open(\"Datasets/penguins.csv\") as f:\n",
    "    lengths = []\n",
    "    sum = 0\n",
    "    data = list(csv.DictReader(f))\n",
    "\n",
    "    # for every penguin in the data:\n",
    "    for penguin in data:\n",
    "        if penguin[\"species\"] == \"Gentoo\":\n",
    "            bill_length = penguin[\"bill_length_mm\"]\n",
    "            sum += float(bill_length)\n",
    "            lengths.append(bill_length)\n",
    "    print(sum/len(lengths))\n",
    "\n",
    "        "
   ]
  },
  {
   "cell_type": "markdown",
   "metadata": {},
   "source": [
    "- It can be useful to visualize the frequency distribution of quantitative data as well. One approach is\n",
    "to make a categorical bar chart, with each different value as a category. Why is that not a good\n",
    "idea?\n",
    "\n",
    "It removes the connection between the numerical values on the x-axis."
   ]
  },
  {
   "cell_type": "markdown",
   "metadata": {},
   "source": [
    "### Histograms\n",
    "- What is a histogram? How is each bar labeled, and what does the height of the bar represent?\n",
    "\n",
    "A histogram is kind of like a bar graph, but each bar is labeled as a range of values that are labeld on the axis. The height of the bar represents how many times a value shows up in that range.\n",
    "\n",
    "- Why is this a better approach than a categorical bar chart?\n",
    "\n",
    "This is a better approach because it doesn't force the numbers to be approximated to a nice, whole number amount while still providing approximate distribution data.\n",
    "\n",
    "- What would happen if we made the intervals bigger? Smaller?\n",
    "\n",
    "If we made them smaller, it would be more accurate but more complicated, and vice versa.\n",
    "\n"
   ]
  },
  {
   "cell_type": "markdown",
   "metadata": {},
   "source": [
    "### Distribution Shape\n",
    "- How would you describe the shape of this distribution? What do you see?\n",
    "\n",
    "The shape is a curve that intersects each bar. \n",
    "\n",
    "- Where is the mode of the distribution (visually)?\n",
    "\n",
    "The mode is 70-80.\n",
    "\n",
    "- What is the difference between a unimodal and a bimodal distribution? What would a bimodal\n",
    "distribution look like?\n",
    "\n",
    "- The histogram above skews left, which means its tail stretches very long to the left. What would a\n",
    "right-skewed distribution look like?"
   ]
  }
 ],
 "metadata": {
  "interpreter": {
   "hash": "aee8b7b246df8f9039afb4144a1f6fd8d2ca17a180786b69acc140d282b71a49"
  },
  "kernelspec": {
   "display_name": "Python 3.9.7 64-bit",
   "name": "python3"
  },
  "language_info": {
   "codemirror_mode": {
    "name": "ipython",
    "version": 3
   },
   "file_extension": ".py",
   "mimetype": "text/x-python",
   "name": "python",
   "nbconvert_exporter": "python",
   "pygments_lexer": "ipython3",
   "version": "3.7.4"
  },
  "orig_nbformat": 4
 },
 "nbformat": 4,
 "nbformat_minor": 2
}
