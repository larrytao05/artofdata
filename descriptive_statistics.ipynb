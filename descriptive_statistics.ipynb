{
 "metadata": {
  "language_info": {
   "codemirror_mode": {
    "name": "ipython",
    "version": 3
   },
   "file_extension": ".py",
   "mimetype": "text/x-python",
   "name": "python",
   "nbconvert_exporter": "python",
   "pygments_lexer": "ipython3",
   "version": "3.9.7"
  },
  "orig_nbformat": 4,
  "kernelspec": {
   "name": "python3",
   "display_name": "Python 3.9.7 64-bit"
  },
  "interpreter": {
   "hash": "aee8b7b246df8f9039afb4144a1f6fd8d2ca17a180786b69acc140d282b71a49"
  }
 },
 "nbformat": 4,
 "nbformat_minor": 2,
 "cells": [
  {
   "source": [
    "#### 1. Descriptive stats can only be applied to samples and not populations. Why do you think that is?\n",
    "\n",
    "- they describe only the sample that is collected, not the actual population\n",
    "\n",
    "#### 2. Why can't we use descriptive stats to make conclusions about a population?\n",
    "\n",
    "- we don't know that the sample perfectly represents the population.\n",
    "\n",
    "#### 3. Some measures you may already be familiar with include the mean and mode. What information is\n",
    "#### captured by those numbers, and what information is lost?\n",
    "\n",
    "- the relationships of all the numbers together is gained. What is lost is the connections that the individual numbers that make up the statistics have. \n"
   ],
   "cell_type": "markdown",
   "metadata": {}
  },
  {
   "cell_type": "code",
   "execution_count": 1,
   "metadata": {},
   "outputs": [
    {
     "output_type": "execute_result",
     "data": {
      "text/plain": [
       "    id  grade      flavor\n",
       "0    1      9   chocolate\n",
       "1    2     10   chocolate\n",
       "2    3      9   chocolate\n",
       "3    4     11   chocolate\n",
       "4    5     12     vanilla\n",
       "5    6     12   chocolate\n",
       "6    7     10   chocolate\n",
       "7    8     12   chocolate\n",
       "8    9      9   chocolate\n",
       "9   10     11     vanilla\n",
       "10  11     10   chocolate\n",
       "11  12     11   chocolate\n",
       "12  13     12     vanilla\n",
       "13  14     11  strawberry\n",
       "14  15      9   chocolate\n",
       "15  16     11   chocolate\n",
       "16  17     10   chocolate\n",
       "17  18     10     vanilla\n",
       "18  19     10  strawberry\n",
       "19  20     11  strawberry"
      ],
      "text/html": "<div>\n<style scoped>\n    .dataframe tbody tr th:only-of-type {\n        vertical-align: middle;\n    }\n\n    .dataframe tbody tr th {\n        vertical-align: top;\n    }\n\n    .dataframe thead th {\n        text-align: right;\n    }\n</style>\n<table border=\"1\" class=\"dataframe\">\n  <thead>\n    <tr style=\"text-align: right;\">\n      <th></th>\n      <th>id</th>\n      <th>grade</th>\n      <th>flavor</th>\n    </tr>\n  </thead>\n  <tbody>\n    <tr>\n      <th>0</th>\n      <td>1</td>\n      <td>9</td>\n      <td>chocolate</td>\n    </tr>\n    <tr>\n      <th>1</th>\n      <td>2</td>\n      <td>10</td>\n      <td>chocolate</td>\n    </tr>\n    <tr>\n      <th>2</th>\n      <td>3</td>\n      <td>9</td>\n      <td>chocolate</td>\n    </tr>\n    <tr>\n      <th>3</th>\n      <td>4</td>\n      <td>11</td>\n      <td>chocolate</td>\n    </tr>\n    <tr>\n      <th>4</th>\n      <td>5</td>\n      <td>12</td>\n      <td>vanilla</td>\n    </tr>\n    <tr>\n      <th>5</th>\n      <td>6</td>\n      <td>12</td>\n      <td>chocolate</td>\n    </tr>\n    <tr>\n      <th>6</th>\n      <td>7</td>\n      <td>10</td>\n      <td>chocolate</td>\n    </tr>\n    <tr>\n      <th>7</th>\n      <td>8</td>\n      <td>12</td>\n      <td>chocolate</td>\n    </tr>\n    <tr>\n      <th>8</th>\n      <td>9</td>\n      <td>9</td>\n      <td>chocolate</td>\n    </tr>\n    <tr>\n      <th>9</th>\n      <td>10</td>\n      <td>11</td>\n      <td>vanilla</td>\n    </tr>\n    <tr>\n      <th>10</th>\n      <td>11</td>\n      <td>10</td>\n      <td>chocolate</td>\n    </tr>\n    <tr>\n      <th>11</th>\n      <td>12</td>\n      <td>11</td>\n      <td>chocolate</td>\n    </tr>\n    <tr>\n      <th>12</th>\n      <td>13</td>\n      <td>12</td>\n      <td>vanilla</td>\n    </tr>\n    <tr>\n      <th>13</th>\n      <td>14</td>\n      <td>11</td>\n      <td>strawberry</td>\n    </tr>\n    <tr>\n      <th>14</th>\n      <td>15</td>\n      <td>9</td>\n      <td>chocolate</td>\n    </tr>\n    <tr>\n      <th>15</th>\n      <td>16</td>\n      <td>11</td>\n      <td>chocolate</td>\n    </tr>\n    <tr>\n      <th>16</th>\n      <td>17</td>\n      <td>10</td>\n      <td>chocolate</td>\n    </tr>\n    <tr>\n      <th>17</th>\n      <td>18</td>\n      <td>10</td>\n      <td>vanilla</td>\n    </tr>\n    <tr>\n      <th>18</th>\n      <td>19</td>\n      <td>10</td>\n      <td>strawberry</td>\n    </tr>\n    <tr>\n      <th>19</th>\n      <td>20</td>\n      <td>11</td>\n      <td>strawberry</td>\n    </tr>\n  </tbody>\n</table>\n</div>"
     },
     "metadata": {},
     "execution_count": 1
    }
   ],
   "source": [
    "import pandas as pd\n",
    "\n",
    "icecream = pd.read_csv(\"Datasets/icecream.csv\")\n",
    "\n",
    "icecream"
   ]
  },
  {
   "source": [
    "- Identify the population of the posed question.\n",
    "\n",
    "The population is all high schoolers.\n",
    "\n",
    "-  Identify a feasible sampling frame.\n",
    "\n",
    "A feasible sampling frame is all of the high schoolers at HM.\n",
    "\n",
    "-  Is this data ordinal or nominal? Explain.\n",
    "\n",
    "- Using your answer above, explain why it would not make sense to find the mean ice cream flavor.\n",
    "Would it make sense to find the mode?\n",
    "\n"
   ],
   "cell_type": "markdown",
   "metadata": {}
  }
 ]
}