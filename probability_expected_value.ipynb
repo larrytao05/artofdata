{
 "cells": [
  {
   "cell_type": "markdown",
   "metadata": {},
   "source": [
    "# Probability and Expected Value\n",
    "\n",
    "You might have already learned a lot about probability. Answer these questions, and look up any relevant information (or ask) as you go:"
   ]
  },
  {
   "cell_type": "markdown",
   "metadata": {},
   "source": [
    "1. You roll a fair six-sided die and a fair 20-sided die. What is the probability that:\n",
    "\n",
    "    a. The dice match each other\n",
    "\n",
    "    b. You roll at least one 6\n",
    "\n",
    "    c. You did not roll any multiples of 3\n",
    "\n",
    "    d. The sum of the numbers rolled is even"
   ]
  },
  {
   "cell_type": "markdown",
   "metadata": {},
   "source": [
    "2. If you roll the six-sided die 120 times, how many times do you expect to see the number 5? Write some python code to simulate this, and verify your answer."
   ]
  },
  {
   "cell_type": "code",
   "execution_count": 11,
   "metadata": {},
   "outputs": [
    {
     "data": {
      "text/plain": [
       "20.0"
      ]
     },
     "execution_count": 11,
     "metadata": {},
     "output_type": "execute_result"
    }
   ],
   "source": [
    "count = 0\n",
    "\n",
    "for roll in range(1, 7):\n",
    "    if roll == 5:\n",
    "        count+=1\n",
    "\n",
    "total = 6\n",
    "count/6 * 120"
   ]
  },
  {
   "cell_type": "code",
   "execution_count": null,
   "metadata": {},
   "outputs": [],
   "source": []
  },
  {
   "cell_type": "markdown",
   "metadata": {},
   "source": [
    "3. What happens if you roll the die 1,200 times? 12,000? 120,000?"
   ]
  },
  {
   "cell_type": "code",
   "execution_count": 8,
   "metadata": {},
   "outputs": [
    {
     "data": {
      "text/plain": [
       "2000.0"
      ]
     },
     "execution_count": 8,
     "metadata": {},
     "output_type": "execute_result"
    }
   ],
   "source": [
    "result_5(12000)"
   ]
  },
  {
   "cell_type": "markdown",
   "metadata": {},
   "source": [
    "ratio\n"
   ]
  },
  {
   "cell_type": "markdown",
   "metadata": {},
   "source": [
    "4. Your friend wants to make a bet with you: You flip a fair coin. If it lands on heads, you get a cup of coffee, but if it lands on tails, you lose a cup of coffee. The coin is flipped 2000 times. How many cups of coffee do you expect to have at the end? "
   ]
  },
  {
   "cell_type": "markdown",
   "metadata": {},
   "source": [
    "0"
   ]
  },
  {
   "cell_type": "markdown",
   "metadata": {},
   "source": [
    "5. A researcher is conducting a study on the proportion of adults in the US who are in favor of mandatory covid vaccinations. The researcher comments that because of the law of large numbers, the sampling method doesn't matter as long as the sample size is large enough. Explain why this claim is incorrect."
   ]
  },
  {
   "cell_type": "markdown",
   "metadata": {},
   "source": [
    "buggin like an insect\n",
    "a large sample size can still be chosen with bias"
   ]
  },
  {
   "cell_type": "markdown",
   "metadata": {},
   "source": [
    "6. Your favorite coffee shop has a promotion where each customer who enters gets to spin a wheel. They have a 5% chance of winning one free coffee and 3% chance of winning two free coffees. The rest of the wheel is blank.\n",
    "\n",
    "    a. What is the probability of not winning at least one coffee?\n",
    "\n",
    "    b. On average, how many coffees would a customer expect to win upon spinning the wheel? Why could this be useful information?"
   ]
  },
  {
   "cell_type": "markdown",
   "metadata": {},
   "source": [
    "a. 92%\n",
    "b. you could figure out how many times you need to enter the shop to win at least 1 cup; 11/100"
   ]
  },
  {
   "cell_type": "markdown",
   "metadata": {},
   "source": [
    "7. A player stumbles upon a rare chest in a video game and knows that a random amount of gold will be generated upon opening it. This is the probability distribution:\n",
    "\n",
    "|Probability|Gold|\n",
    "|--------|----|\n",
    "|1%       |1000|\n",
    "|10%      |500 |\n",
    "|50%      |100 |\n",
    "|39%      |80  |\n",
    "\n",
    "  What's the expected amount of gold this player will receive?"
   ]
  },
  {
   "cell_type": "code",
   "execution_count": 4,
   "metadata": {},
   "outputs": [
    {
     "data": {
      "text/plain": [
       "141.2"
      ]
     },
     "execution_count": 4,
     "metadata": {},
     "output_type": "execute_result"
    }
   ],
   "source": [
    "0.39 * 80 + 0.5 * 100 + .1 * 500 + .01 * 1000"
   ]
  },
  {
   "cell_type": "markdown",
   "metadata": {},
   "source": [
    "8. A basketball player is analyzing their own stats, and realizes that so far they've made 70% of their free throws. Let's analyze a situation where this player is given 2 free throws.\n",
    "\n",
    "    a. What is the random variable and sample space?\n",
    "\n",
    "    b. What is the probability distribution?\n",
    "\n",
    "    c. Out of the 2, how many shots will this player get in on average?"
   ]
  },
  {
   "cell_type": "markdown",
   "metadata": {},
   "source": [
    "a. the random variable is the number of free throws made; the sample space is the number of possible outcomes {1 made, 2 made, 0 made}\n",
    "\n",
    "b. 49% for 2, 9% for none, 42% for 1\n",
    "\n",
    "c. .7 * 2 = 1.4\n"
   ]
  }
 ],
 "metadata": {
  "interpreter": {
   "hash": "c1aa90d473b498f97dba7e20c1a9c7cea60970428ab3d0a3ba57d45a73b54ded"
  },
  "kernelspec": {
   "display_name": "Python 3.7.4 64-bit",
   "language": "python",
   "name": "python3"
  },
  "language_info": {
   "codemirror_mode": {
    "name": "ipython",
    "version": 3
   },
   "file_extension": ".py",
   "mimetype": "text/x-python",
   "name": "python",
   "nbconvert_exporter": "python",
   "pygments_lexer": "ipython3",
   "version": "3.7.4"
  },
  "orig_nbformat": 4
 },
 "nbformat": 4,
 "nbformat_minor": 2
}
